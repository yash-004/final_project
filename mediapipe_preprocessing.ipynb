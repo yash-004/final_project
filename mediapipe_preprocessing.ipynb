{
 "cells": [
  {
   "cell_type": "markdown",
   "id": "f086e492-6a0e-42d3-828a-3fe260b1520f",
   "metadata": {},
   "source": [
    "# Step 1: Importing Necessary Libraries"
   ]
  },
  {
   "cell_type": "code",
   "execution_count": 1,
   "id": "ed863f9b-07e3-45b7-b961-81a4679b92f6",
   "metadata": {},
   "outputs": [],
   "source": [
    "# Import necessary libraries\n",
    "# - os: for interacting with the file system\n",
    "# - shutil: to copy directories\n",
    "# - random: for random sampling\n",
    "# - tqdm: for progress bars to track file copying\n",
    "import os\n",
    "import shutil\n",
    "import random\n",
    "from tqdm import tqdm\n"
   ]
  },
  {
   "cell_type": "markdown",
   "id": "8615184c-1b59-47fe-9859-94375097e271",
   "metadata": {},
   "source": [
    "# Step 2: Define Helper Functions"
   ]
  },
  {
   "cell_type": "code",
   "execution_count": 2,
   "id": "0361cbf4-56b8-451c-9ebf-db436329469e",
   "metadata": {},
   "outputs": [],
   "source": [
    "# Function to ensure the destination directory exists or create it\n",
    "def create_directory_if_not_exists(directory_path):\n",
    "    \"\"\"\n",
    "    Ensures that the given directory exists. If not, it creates the directory.\n",
    "    \n",
    "    :param directory_path: Path of the directory to check or create.\n",
    "    \"\"\"\n",
    "    os.makedirs(directory_path, exist_ok=True)\n",
    "\n",
    "# Function to get directories that start with a specified letter\n",
    "def get_directories_by_letter(source_directory, letter):\n",
    "    \"\"\"\n",
    "    Fetches directories from the source that start with the given letter.\n",
    "    \n",
    "    :param source_directory: The source directory to search within.\n",
    "    :param letter: The letter directories should start with.\n",
    "    :return: List of directories starting with the letter.\n",
    "    \"\"\"\n",
    "    entries = os.listdir(source_directory)\n",
    "    return [entry for entry in entries if os.path.isdir(os.path.join(source_directory, entry)) and entry.lower().startswith(letter)]\n",
    "\n",
    "# Function to copy selected directories to a destination\n",
    "def copy_selected_directories(directories, source_directory, destination_directory):\n",
    "    \"\"\"\n",
    "    Copies selected directories from the source directory to the destination directory.\n",
    "    \n",
    "    :param directories: List of directory names to copy.\n",
    "    :param source_directory: Directory from where to copy.\n",
    "    :param destination_directory: Directory where to copy.\n",
    "    \"\"\"\n",
    "    for directory in tqdm(directories, desc=\"Copying directories\", unit=\"directory\"):\n",
    "        src_path = os.path.join(source_directory, directory)\n",
    "        dest_path = os.path.join(destination_directory, directory)\n",
    "        try:\n",
    "            shutil.copytree(src_path, dest_path, dirs_exist_ok=True)\n",
    "        except Exception as error:\n",
    "            print(f\"Error copying {directory}: {error}\")\n"
   ]
  },
  {
   "cell_type": "markdown",
   "id": "4581966e-5440-4e0e-8179-d08044335f6a",
   "metadata": {},
   "source": [
    "# Step 3: Define Source and Destination Paths"
   ]
  },
  {
   "cell_type": "code",
   "execution_count": 3,
   "id": "ce1413b9-a0b0-453c-a46d-44f914e46d18",
   "metadata": {},
   "outputs": [],
   "source": [
    "# Define source and destination directories\n",
    "source_directory = 'dataset'  # source directory\n",
    "destination_directory = 'small_dataset_72'  # destination directory\n",
    "\n",
    "# Ensure the destination directory exists\n",
    "create_directory_if_not_exists(destination_directory)"
   ]
  },
  {
   "cell_type": "markdown",
   "id": "c17852a5-2ec8-4059-99e2-1a99bb5abfe8",
   "metadata": {},
   "source": [
    "# Step 4: Process Directories by Alphabet and Copy Them"
   ]
  },
  {
   "cell_type": "code",
   "execution_count": 4,
   "id": "643e39d7-532e-4c6b-86b3-128ed8a6e9a6",
   "metadata": {},
   "outputs": [
    {
     "name": "stderr",
     "output_type": "stream",
     "text": [
      "Processing letters:   0%|                                                                                                                                                                                         | 0/26 [00:00<?, ?letter/s]\n",
      "Copying directories:   0%|                                                                                                                                                                                      | 0/3 [00:00<?, ?directory/s]\u001b[A\n",
      "Copying directories:  33%|██████████████████████████████████████████████████████████                                                                                                                    | 1/3 [00:07<00:14,  7.27s/directory]\u001b[A\n",
      "Copying directories:  67%|████████████████████████████████████████████████████████████████████████████████████████████████████████████████████                                                          | 2/3 [00:23<00:12, 12.44s/directory]\u001b[A\n",
      "Copying directories: 100%|██████████████████████████████████████████████████████████████████████████████████████████████████████████████████████████████████████████████████████████████████████████████| 3/3 [00:29<00:00,  9.68s/directory]\u001b[A\n",
      "Processing letters:   4%|██████▊                                                                                                                                                                          | 1/26 [00:31<13:19, 31.99s/letter]\n",
      "Copying directories:   0%|                                                                                                                                                                                      | 0/3 [00:00<?, ?directory/s]\u001b[A\n",
      "Copying directories:  33%|██████████████████████████████████████████████████████████                                                                                                                    | 1/3 [00:12<00:24, 12.47s/directory]\u001b[A\n",
      "Copying directories: 100%|██████████████████████████████████████████████████████████████████████████████████████████████████████████████████████████████████████████████████████████████████████████████| 3/3 [00:27<00:00,  9.14s/directory]\u001b[A\n",
      "Processing letters:   8%|█████████████▌                                                                                                                                                                   | 2/26 [01:02<12:24, 31.02s/letter]\n",
      "Copying directories:   0%|                                                                                                                                                                                      | 0/3 [00:00<?, ?directory/s]\u001b[A\n",
      "Copying directories: 100%|██████████████████████████████████████████████████████████████████████████████████████████████████████████████████████████████████████████████████████████████████████████████| 3/3 [00:04<00:00,  1.46s/directory]\u001b[A\n",
      "Processing letters:  12%|████████████████████▍                                                                                                                                                            | 3/26 [01:09<07:44, 20.20s/letter]\n",
      "Copying directories:   0%|                                                                                                                                                                                      | 0/3 [00:00<?, ?directory/s]\u001b[A\n",
      "Copying directories:  33%|██████████████████████████████████████████████████████████                                                                                                                    | 1/3 [00:08<00:16,  8.08s/directory]\u001b[A\n",
      "Copying directories:  67%|████████████████████████████████████████████████████████████████████████████████████████████████████████████████████                                                          | 2/3 [00:14<00:07,  7.26s/directory]\u001b[A\n",
      "Copying directories: 100%|██████████████████████████████████████████████████████████████████████████████████████████████████████████████████████████████████████████████████████████████████████████████| 3/3 [00:19<00:00,  6.37s/directory]\u001b[A\n",
      "Processing letters:  15%|███████████████████████████▏                                                                                                                                                     | 4/26 [01:31<07:40, 20.91s/letter]\n",
      "Copying directories:   0%|                                                                                                                                                                                      | 0/3 [00:00<?, ?directory/s]\u001b[A\n",
      "Copying directories:  33%|██████████████████████████████████████████████████████████                                                                                                                    | 1/3 [00:07<00:14,  7.19s/directory]\u001b[A\n",
      "Copying directories: 100%|██████████████████████████████████████████████████████████████████████████████████████████████████████████████████████████████████████████████████████████████████████████████| 3/3 [00:21<00:00,  7.24s/directory]\u001b[A\n",
      "Processing letters:  19%|██████████████████████████████████                                                                                                                                               | 5/26 [01:56<07:48, 22.33s/letter]\n",
      "Copying directories:   0%|                                                                                                                                                                                      | 0/3 [00:00<?, ?directory/s]\u001b[A\n",
      "Copying directories:  33%|██████████████████████████████████████████████████████████                                                                                                                    | 1/3 [00:08<00:16,  8.48s/directory]\u001b[A\n",
      "Copying directories:  67%|████████████████████████████████████████████████████████████████████████████████████████████████████████████████████                                                          | 2/3 [00:13<00:06,  6.28s/directory]\u001b[A\n",
      "Copying directories: 100%|██████████████████████████████████████████████████████████████████████████████████████████████████████████████████████████████████████████████████████████████████████████████| 3/3 [00:18<00:00,  6.11s/directory]\u001b[A\n",
      "Processing letters:  23%|████████████████████████████████████████▊                                                                                                                                        | 6/26 [02:17<07:18, 21.91s/letter]\n",
      "Copying directories:   0%|                                                                                                                                                                                      | 0/3 [00:00<?, ?directory/s]\u001b[A\n",
      "Copying directories:  33%|██████████████████████████████████████████████████████████                                                                                                                    | 1/3 [00:14<00:28, 14.02s/directory]\u001b[A\n",
      "Copying directories: 100%|██████████████████████████████████████████████████████████████████████████████████████████████████████████████████████████████████████████████████████████████████████████████| 3/3 [00:24<00:00,  8.25s/directory]\u001b[A\n",
      "Processing letters:  27%|███████████████████████████████████████████████▋                                                                                                                                 | 7/26 [02:45<07:31, 23.78s/letter]\n",
      "Copying directories:   0%|                                                                                                                                                                                      | 0/3 [00:00<?, ?directory/s]\u001b[A\n",
      "Copying directories:  67%|████████████████████████████████████████████████████████████████████████████████████████████████████████████████████                                                          | 2/3 [00:04<00:02,  2.14s/directory]\u001b[A\n",
      "Copying directories: 100%|██████████████████████████████████████████████████████████████████████████████████████████████████████████████████████████████████████████████████████████████████████████████| 3/3 [00:11<00:00,  3.95s/directory]\u001b[A\n",
      "Processing letters:  31%|██████████████████████████████████████████████████████▍                                                                                                                          | 8/26 [03:00<06:17, 20.98s/letter]\n",
      "Copying directories:   0%|                                                                                                                                                                                      | 0/3 [00:00<?, ?directory/s]\u001b[A\n",
      "Copying directories:  67%|████████████████████████████████████████████████████████████████████████████████████████████████████████████████████                                                          | 2/3 [00:07<00:03,  3.77s/directory]\u001b[A\n",
      "Copying directories: 100%|██████████████████████████████████████████████████████████████████████████████████████████████████████████████████████████████████████████████████████████████████████████████| 3/3 [00:24<00:00,  8.09s/directory]\u001b[A\n",
      "Processing letters:  35%|█████████████████████████████████████████████████████████████▎                                                                                                                   | 9/26 [03:27<06:29, 22.90s/letter]\n",
      "Copying directories:   0%|                                                                                                                                                                                      | 0/3 [00:00<?, ?directory/s]\u001b[A\n",
      "Copying directories:  33%|██████████████████████████████████████████████████████████                                                                                                                    | 1/3 [00:09<00:19,  9.99s/directory]\u001b[A\n",
      "Copying directories: 100%|██████████████████████████████████████████████████████████████████████████████████████████████████████████████████████████████████████████████████████████████████████████████| 3/3 [00:20<00:00,  6.91s/directory]\u001b[A\n",
      "Processing letters:  38%|███████████████████████████████████████████████████████████████████▋                                                                                                            | 10/26 [03:50<06:09, 23.12s/letter]\n",
      "Copying directories:   0%|                                                                                                                                                                                      | 0/3 [00:00<?, ?directory/s]\u001b[A\n",
      "Copying directories: 100%|██████████████████████████████████████████████████████████████████████████████████████████████████████████████████████████████████████████████████████████████████████████████| 3/3 [00:04<00:00,  1.57s/directory]\u001b[A\n",
      "Processing letters:  42%|██████████████████████████████████████████████████████████████████████████▍                                                                                                     | 11/26 [03:58<04:35, 18.36s/letter]\n",
      "Copying directories:   0%|                                                                                                                                                                                      | 0/3 [00:00<?, ?directory/s]\u001b[A\n",
      "Copying directories:  67%|████████████████████████████████████████████████████████████████████████████████████████████████████████████████████                                                          | 2/3 [00:04<00:02,  2.26s/directory]\u001b[A\n",
      "Copying directories: 100%|██████████████████████████████████████████████████████████████████████████████████████████████████████████████████████████████████████████████████████████████████████████████| 3/3 [00:13<00:00,  4.56s/directory]\u001b[A\n",
      "Processing letters:  46%|█████████████████████████████████████████████████████████████████████████████████▏                                                                                              | 12/26 [04:15<04:09, 17.83s/letter]\n",
      "Copying directories:   0%|                                                                                                                                                                                      | 0/3 [00:00<?, ?directory/s]\u001b[A\n",
      "Copying directories:  33%|██████████████████████████████████████████████████████████                                                                                                                    | 1/3 [00:06<00:12,  6.34s/directory]\u001b[A\n",
      "Copying directories:  67%|████████████████████████████████████████████████████████████████████████████████████████████████████████████████████                                                          | 2/3 [00:17<00:09,  9.07s/directory]\u001b[A\n",
      "Copying directories: 100%|██████████████████████████████████████████████████████████████████████████████████████████████████████████████████████████████████████████████████████████████████████████████| 3/3 [00:25<00:00,  8.51s/directory]\u001b[A\n",
      "Processing letters:  50%|████████████████████████████████████████████████████████████████████████████████████████                                                                                        | 13/26 [04:43<04:34, 21.13s/letter]\n",
      "Copying directories:   0%|                                                                                                                                                                                      | 0/3 [00:00<?, ?directory/s]\u001b[A\n",
      "Copying directories:  33%|██████████████████████████████████████████████████████████                                                                                                                    | 1/3 [00:07<00:15,  7.76s/directory]\u001b[A\n",
      "Copying directories: 100%|██████████████████████████████████████████████████████████████████████████████████████████████████████████████████████████████████████████████████████████████████████████████| 3/3 [00:15<00:00,  5.31s/directory]\u001b[A\n",
      "Processing letters:  54%|██████████████████████████████████████████████████████████████████████████████████████████████▊                                                                                 | 14/26 [05:02<04:06, 20.52s/letter]\n",
      "Copying directories:   0%|                                                                                                                                                                                      | 0/3 [00:00<?, ?directory/s]\u001b[A\n",
      "Copying directories:  33%|██████████████████████████████████████████████████████████                                                                                                                    | 1/3 [00:08<00:17,  8.94s/directory]\u001b[A\n",
      "Copying directories:  67%|████████████████████████████████████████████████████████████████████████████████████████████████████████████████████                                                          | 2/3 [00:17<00:08,  8.71s/directory]\u001b[A\n",
      "Copying directories: 100%|██████████████████████████████████████████████████████████████████████████████████████████████████████████████████████████████████████████████████████████████████████████████| 3/3 [00:25<00:00,  8.39s/directory]\u001b[A\n",
      "Processing letters:  58%|█████████████████████████████████████████████████████████████████████████████████████████████████████▌                                                                          | 15/26 [05:31<04:10, 22.82s/letter]\n",
      "Copying directories:   0%|                                                                                                                                                                                      | 0/3 [00:00<?, ?directory/s]\u001b[A\n",
      "Copying directories: 100%|██████████████████████████████████████████████████████████████████████████████████████████████████████████████████████████████████████████████████████████████████████████████| 3/3 [00:08<00:00,  2.72s/directory]\u001b[A\n",
      "Processing letters:  62%|████████████████████████████████████████████████████████████████████████████████████████████████████████████▎                                                                   | 16/26 [05:42<03:13, 19.30s/letter]\n",
      "Copying directories:   0%|                                                                                                                                                                                      | 0/3 [00:00<?, ?directory/s]\u001b[A\n",
      "Copying directories:  33%|██████████████████████████████████████████████████████████                                                                                                                    | 1/3 [00:06<00:13,  6.53s/directory]\u001b[A\n",
      "Copying directories: 100%|██████████████████████████████████████████████████████████████████████████████████████████████████████████████████████████████████████████████████████████████████████████████| 3/3 [00:13<00:00,  4.41s/directory]\u001b[A\n",
      "Processing letters:  65%|███████████████████████████████████████████████████████████████████████████████████████████████████████████████████                                                             | 17/26 [05:58<02:45, 18.42s/letter]\n",
      "Copying directories:   0%|                                                                                                                                                                                      | 0/3 [00:00<?, ?directory/s]\u001b[A\n",
      "Copying directories:  33%|██████████████████████████████████████████████████████████                                                                                                                    | 1/3 [00:08<00:17,  8.62s/directory]\u001b[A\n",
      "Copying directories:  67%|████████████████████████████████████████████████████████████████████████████████████████████████████████████████████                                                          | 2/3 [00:17<00:08,  8.88s/directory]\u001b[A\n",
      "Copying directories: 100%|██████████████████████████████████████████████████████████████████████████████████████████████████████████████████████████████████████████████████████████████████████████████| 3/3 [00:27<00:00,  9.07s/directory]\u001b[A\n",
      "Processing letters:  69%|█████████████████████████████████████████████████████████████████████████████████████████████████████████████████████████▊                                                      | 18/26 [06:29<02:56, 22.03s/letter]\n",
      "Copying directories:   0%|                                                                                                                                                                                      | 0/3 [00:00<?, ?directory/s]\u001b[A\n",
      "Copying directories:  33%|██████████████████████████████████████████████████████████                                                                                                                    | 1/3 [00:05<00:10,  5.12s/directory]\u001b[A\n",
      "Copying directories:  67%|████████████████████████████████████████████████████████████████████████████████████████████████████████████████████                                                          | 2/3 [00:13<00:07,  7.21s/directory]\u001b[A\n",
      "Copying directories: 100%|██████████████████████████████████████████████████████████████████████████████████████████████████████████████████████████████████████████████████████████████████████████████| 3/3 [00:25<00:00,  8.63s/directory]\u001b[A\n",
      "Processing letters:  73%|████████████████████████████████████████████████████████████████████████████████████████████████████████████████████████████████▌                                               | 19/26 [06:57<02:48, 24.06s/letter]\n",
      "Copying directories:   0%|                                                                                                                                                                                      | 0/3 [00:00<?, ?directory/s]\u001b[A\n",
      "Copying directories:  33%|██████████████████████████████████████████████████████████                                                                                                                    | 1/3 [00:09<00:18,  9.16s/directory]\u001b[A\n",
      "Copying directories:  67%|████████████████████████████████████████████████████████████████████████████████████████████████████████████████████                                                          | 2/3 [00:21<00:10, 10.93s/directory]\u001b[A\n",
      "Copying directories: 100%|██████████████████████████████████████████████████████████████████████████████████████████████████████████████████████████████████████████████████████████████████████████████| 3/3 [00:37<00:00, 12.49s/directory]\u001b[A\n",
      "Processing letters:  77%|███████████████████████████████████████████████████████████████████████████████████████████████████████████████████████████████████████▍                                        | 20/26 [07:38<02:53, 28.95s/letter]\n",
      "Copying directories:   0%|                                                                                                                                                                                      | 0/3 [00:00<?, ?directory/s]\u001b[A\n",
      "Copying directories:  33%|██████████████████████████████████████████████████████████                                                                                                                    | 1/3 [00:08<00:17,  8.94s/directory]\u001b[A\n",
      "Copying directories: 100%|██████████████████████████████████████████████████████████████████████████████████████████████████████████████████████████████████████████████████████████████████████████████| 3/3 [00:16<00:00,  5.45s/directory]\u001b[A\n",
      "Processing letters:  81%|██████████████████████████████████████████████████████████████████████████████████████████████████████████████████████████████████████████████▏                                 | 21/26 [07:57<02:10, 26.05s/letter]\n",
      "Copying directories:   0%|                                                                                                                                                                                      | 0/3 [00:00<?, ?directory/s]\u001b[A\n",
      "Copying directories:  33%|██████████████████████████████████████████████████████████                                                                                                                    | 1/3 [00:05<00:11,  5.91s/directory]\u001b[A\n",
      "Copying directories:  67%|████████████████████████████████████████████████████████████████████████████████████████████████████████████████████                                                          | 2/3 [00:10<00:05,  5.28s/directory]\u001b[A\n",
      "Copying directories: 100%|██████████████████████████████████████████████████████████████████████████████████████████████████████████████████████████████████████████████████████████████████████████████| 3/3 [00:23<00:00,  7.91s/directory]\u001b[A\n",
      "Processing letters:  85%|████████████████████████████████████████████████████████████████████████████████████████████████████████████████████████████████████████████████████▉                           | 22/26 [08:24<01:45, 26.27s/letter]\n",
      "Copying directories:   0%|                                                                                                                                                                                      | 0/3 [00:00<?, ?directory/s]\u001b[A\n",
      "Copying directories: 100%|██████████████████████████████████████████████████████████████████████████████████████████████████████████████████████████████████████████████████████████████████████████████| 3/3 [00:14<00:00,  4.95s/directory]\u001b[A\n",
      "Processing letters:  92%|██████████████████████████████████████████████████████████████████████████████████████████████████████████████████████████████████████████████████████████████████▍             | 24/26 [08:45<00:35, 17.51s/letter]"
     ]
    },
    {
     "name": "stdout",
     "output_type": "stream",
     "text": [
      "Not enough directories start with 'x' to select 3. Found: 0\n"
     ]
    },
    {
     "name": "stderr",
     "output_type": "stream",
     "text": [
      "\n",
      "Copying directories:   0%|                                                                                                                                                                                      | 0/3 [00:00<?, ?directory/s]\u001b[A\n",
      "Copying directories:  33%|██████████████████████████████████████████████████████████                                                                                                                    | 1/3 [00:08<00:17,  8.54s/directory]\u001b[A\n",
      "Copying directories: 100%|██████████████████████████████████████████████████████████████████████████████████████████████████████████████████████████████████████████████████████████████████████████████| 3/3 [00:15<00:00,  5.11s/directory]\u001b[A\n",
      "Processing letters: 100%|████████████████████████████████████████████████████████████████████████████████████████████████████████████████████████████████████████████████████████████████████████████████| 26/26 [09:06<00:00, 21.02s/letter]"
     ]
    },
    {
     "name": "stdout",
     "output_type": "stream",
     "text": [
      "Not enough directories start with 'z' to select 3. Found: 1\n",
      "Alphabet-based directory copying completed successfully.\n"
     ]
    },
    {
     "name": "stderr",
     "output_type": "stream",
     "text": [
      "\n"
     ]
    }
   ],
   "source": [
    "# Iterate through letters in the alphabet to process directories\n",
    "for letter in tqdm('abcdefghijklmnopqrstuvwxyz', desc=\"Processing letters\", unit=\"letter\"):\n",
    "    # Get directories that start with the current letter\n",
    "    directories_starting_with_letter = get_directories_by_letter(source_directory, letter)\n",
    "    \n",
    "    # Check if there are at least 3 directories starting with the current letter\n",
    "    if len(directories_starting_with_letter) < 3:\n",
    "        print(f\"Not enough directories start with '{letter}' to select 3. Found: {len(directories_starting_with_letter)}\")\n",
    "        continue\n",
    "    \n",
    "    # Randomly select 3 directories\n",
    "    selected_directories = random.sample(directories_starting_with_letter, 3)\n",
    "    \n",
    "    # Copy the selected directories to the destination\n",
    "    copy_selected_directories(selected_directories, source_directory, destination_directory)\n",
    "\n",
    "print(\"Alphabet-based directory copying completed successfully.\")\n"
   ]
  },
  {
   "cell_type": "markdown",
   "id": "5cd09371-e9bd-4281-a895-935ca648317a",
   "metadata": {},
   "source": [
    "# Step 5: Process Specific Directories"
   ]
  },
  {
   "cell_type": "code",
   "execution_count": 5,
   "id": "795df544-1752-49a6-87c1-324717983be4",
   "metadata": {},
   "outputs": [
    {
     "name": "stderr",
     "output_type": "stream",
     "text": [
      "Copying directories: 100%|██████████████████████████████████████████████████████████████████████████████████████████████████████████████████████████████████████████████████████████████████████████████| 1/1 [00:00<00:00, 74.34directory/s]"
     ]
    },
    {
     "name": "stdout",
     "output_type": "stream",
     "text": [
      "Specific directories starting with 'none' have been copied successfully.\n"
     ]
    },
    {
     "name": "stderr",
     "output_type": "stream",
     "text": [
      "\n"
     ]
    }
   ],
   "source": [
    "# handle specific directory names or prefixes\n",
    "specific_directories = [entry for entry in os.listdir(source_directory) \n",
    "                        if os.path.isdir(os.path.join(source_directory, entry)) and entry.startswith('none')]\n",
    "\n",
    "# Copy these directories if found\n",
    "if specific_directories:\n",
    "    copy_selected_directories(specific_directories, source_directory, destination_directory)\n",
    "\n",
    "print(\"Specific directories starting with 'none' have been copied successfully.\")\n"
   ]
  },
  {
   "cell_type": "markdown",
   "id": "a03291fb-7199-4766-81cb-456f4edc7451",
   "metadata": {},
   "source": [
    "# Step 6: Dataset Processing and Timing"
   ]
  },
  {
   "cell_type": "code",
   "execution_count": 6,
   "id": "716fdd4f-249d-40bb-87ab-ac4ddddf2cbb",
   "metadata": {},
   "outputs": [],
   "source": [
    "# # Timing and Dataset Processing using gesture_recognizer\n",
    "# import time\n",
    "\n",
    "# # Measure the time it takes to process the dataset\n",
    "# start_time = time.time()\n",
    "\n",
    "# dataset_path = 'small_dataset_72'\n",
    "\n",
    "# data = gesture_recognizer.Dataset.from_folder(\n",
    "#     dirname=dataset_path,\n",
    "#     hparams=gesture_recognizer.HandDataPreprocessingParams(\n",
    "#         shuffle=True, min_detection_confidence=0.66\n",
    "#     ),\n",
    "# )\n",
    "\n",
    "# end_time = time.time()\n",
    "# print(f\"Total time for dataset processing: {end_time - start_time:.2f} seconds\")\n",
    "\n",
    "# # Step 7: Split Dataset into Training, Validation, and Test Sets\n",
    "# train_data, rest_data = data.split(0.8)\n",
    "# validation_data, test_data = rest_data.split(0.5)\n"
   ]
  },
  {
   "cell_type": "markdown",
   "id": "bf80b265-11c7-461d-af12-11f5058ff147",
   "metadata": {},
   "source": [
    "# Step 7: Extract and Display Labels"
   ]
  },
  {
   "cell_type": "code",
   "execution_count": 8,
   "id": "06ef672d-e3f7-4446-9f33-12e3b3e9beaa",
   "metadata": {},
   "outputs": [
    {
     "name": "stdout",
     "output_type": "stream",
     "text": [
      "Labels (Directory names): ['amazing', 'april', 'assist', 'borrow', 'bowling', 'brother', 'challenge', 'comma', 'crazy', 'deposit', 'design', 'devil', 'each', 'enjoy', 'exact', 'famous', 'few', 'forbid', 'great', 'grow up', 'guitar', 'haircut', 'hit', 'hockey', 'impossible', 'influence', 'interest', 'japan', 'join', 'joy', 'kid', 'kneel', 'knock', 'last year', 'lazy', 'license', 'melt', 'mix', 'motor', 'name', 'never', 'next', 'none', 'obtain', 'organize', 'over', 'photographer', 'pray', 'pretty', 'queen', 'question', 'quick', 'radio', 'really', 'respect', 'sad', 'stubborn', 'sunrise', 'toast', 'today', 'type', 'ugly', 'upset', 'use', 'valley', 'verb', 'vote', 'while', 'white', 'write', 'yes', 'your', 'yourself']\n",
      "Number of labels: 73\n"
     ]
    }
   ],
   "source": [
    "# Extract and display labels (directory names in the dataset path)\n",
    "dataset_path = 'small_dataset_72'\n",
    "labels = [entry for entry in os.listdir(dataset_path) if os.path.isdir(os.path.join(dataset_path, entry))]\n",
    "\n",
    "# Display the labels and the number of labels\n",
    "print(\"Labels (Directory names):\", labels)\n",
    "print(f\"Number of labels: {len(labels)}\")\n"
   ]
  }
 ],
 "metadata": {
  "kernelspec": {
   "display_name": "mediapipe",
   "language": "python",
   "name": "mediapipe"
  },
  "language_info": {
   "codemirror_mode": {
    "name": "ipython",
    "version": 3
   },
   "file_extension": ".py",
   "mimetype": "text/x-python",
   "name": "python",
   "nbconvert_exporter": "python",
   "pygments_lexer": "ipython3",
   "version": "3.11.9"
  }
 },
 "nbformat": 4,
 "nbformat_minor": 5
}
